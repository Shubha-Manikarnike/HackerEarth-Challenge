{
 "cells": [
  {
   "cell_type": "code",
   "execution_count": null,
   "metadata": {},
   "outputs": [],
   "source": []
  },
  {
   "cell_type": "code",
   "execution_count": 22,
   "metadata": {},
   "outputs": [
    {
     "name": "stdout",
     "output_type": "stream",
     "text": [
      "3\n",
      "qwqwqwqwqwrtrtrt\n",
      "0\n",
      "qwertqwrtqwrtqwrtqwrt\n",
      "1\n",
      "eqwrtqwrtqwrte\n",
      "2\n"
     ]
    }
   ],
   "source": [
    "import re\n",
    "def return_longest_vowel(s):\n",
    "    srch = re.search(\"^[aeiou]+\",s)\n",
    "    len_start = 0\n",
    "    len_last = 0\n",
    "    longest = \"\"\n",
    "    if(srch):\n",
    "        len_start = len(srch.group())\n",
    "        result = re.sub(\"^[aeiou]+\" ,\"\" ,s)\n",
    "        s = result\n",
    "    last  = re.search(\"[aeiou]+$\",s)\n",
    "    if (last):\n",
    "        len_last = len(last.group())\n",
    "        result = re.sub(\"[aeiou]+$\",\"\",s)\n",
    "        s = result\n",
    "    matches = re.findall(\"[aeiou]+\",s) \n",
    "    if(matches):\n",
    "        longest = (max(matches, key = len))  \n",
    "    final_len = len(longest) + len_start + len_last\n",
    "    print(final_len)\n",
    "T = int(input())\n",
    "for _ in range(T):\n",
    "    s = input()\n",
    "    return_longest_vowel(s)\n",
    "    "
   ]
  }
 ],
 "metadata": {
  "kernelspec": {
   "display_name": "Python 3",
   "language": "python",
   "name": "python3"
  },
  "language_info": {
   "codemirror_mode": {
    "name": "ipython",
    "version": 3
   },
   "file_extension": ".py",
   "mimetype": "text/x-python",
   "name": "python",
   "nbconvert_exporter": "python",
   "pygments_lexer": "ipython3",
   "version": "3.7.1"
  }
 },
 "nbformat": 4,
 "nbformat_minor": 2
}
